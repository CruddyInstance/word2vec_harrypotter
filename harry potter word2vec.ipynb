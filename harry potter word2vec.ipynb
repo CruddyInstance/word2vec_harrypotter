{
 "cells": [
  {
   "cell_type": "code",
   "execution_count": 2,
   "metadata": {},
   "outputs": [],
   "source": [
    "import numpy as np\n",
    "import pandas as pd\n",
    "\n",
    "import gensim\n",
    "import os\n",
    "\n",
    "from nltk import sent_tokenize\n",
    "from gensim.utils import simple_preprocess"
   ]
  },
  {
   "cell_type": "code",
   "execution_count": 110,
   "metadata": {},
   "outputs": [],
   "source": [
    "import nltk\n",
    "from nltk.corpus import stopwords\n",
    "stop_words = set(stopwords.words('english'))\n",
    "#nltk.download('all')"
   ]
  },
  {
   "cell_type": "code",
   "execution_count": 46,
   "metadata": {},
   "outputs": [],
   "source": [
    "story = []\n",
    "for filename in os.listdir('books'):\n",
    "    \n",
    "    f = open(os.path.join('books',filename), encoding= 'utf8')\n",
    "    corpus = f.read()\n",
    "    corpus = corpus.replace('\\n', '')\n",
    "    raw_sent = sent_tokenize(corpus)\n",
    "    for sent in raw_sent:\n",
    "        story.append(simple_preprocess(sent))"
   ]
  },
  {
   "cell_type": "code",
   "execution_count": 51,
   "metadata": {},
   "outputs": [
    {
     "name": "stdout",
     "output_type": "stream",
     "text": [
      "[['boy', 'lived', 'mr', 'mrs', 'dursley', 'number', 'four', 'privet', 'drive', 'proud', 'say', 'perfectly', 'normal', 'thank', 'much'], ['last', 'people', 'expect', 'involved', 'anything', 'strange', 'mysterious', 'hold', 'nonsense'], ['mr', 'dursley', 'director', 'firm', 'called', 'grunnings', 'made', 'drills'], ['big', 'beefy', 'man', 'hardly', 'neck', 'although', 'large', 'mustache'], ['mrs', 'dursley', 'thin', 'blonde', 'nearly', 'twice', 'usual', 'amount', 'neck', 'came', 'useful', 'spent', 'much', 'time', 'craning', 'garden', 'fences', 'spying', 'neighbors']]\n"
     ]
    }
   ],
   "source": [
    "harry_potter = []\n",
    "for sent in story:\n",
    "    sent = [i for i in sent if i not in stop_words]\n",
    "    harry_potter.append(sent)\n",
    "print(harry_potter[:5])    "
   ]
  },
  {
   "cell_type": "code",
   "execution_count": 78,
   "metadata": {},
   "outputs": [],
   "source": [
    "model = gensim.models.Word2Vec(\n",
    "    window=15,\n",
    "    min_count=2\n",
    ")"
   ]
  },
  {
   "cell_type": "code",
   "execution_count": 79,
   "metadata": {},
   "outputs": [],
   "source": [
    "model.build_vocab(harry_potter)"
   ]
  },
  {
   "cell_type": "code",
   "execution_count": 80,
   "metadata": {},
   "outputs": [
    {
     "data": {
      "text/plain": [
       "(108213559, 120492000)"
      ]
     },
     "execution_count": 80,
     "metadata": {},
     "output_type": "execute_result"
    }
   ],
   "source": [
    "model.train(harry_potter, total_examples=model.corpus_count, epochs=200)"
   ]
  },
  {
   "cell_type": "code",
   "execution_count": 81,
   "metadata": {},
   "outputs": [
    {
     "data": {
      "text/plain": [
       "[('ron', 0.5419809818267822),\n",
       " ('hermione', 0.4147089421749115),\n",
       " ('tainted', 0.4031587839126587),\n",
       " ('stup', 0.3967960476875305),\n",
       " ('scathingly', 0.37184858322143555),\n",
       " ('heartened', 0.37054798007011414),\n",
       " ('omnioculars', 0.36211004853248596),\n",
       " ('cho', 0.35256513953208923),\n",
       " ('resurface', 0.33898481726646423),\n",
       " ('dobby', 0.3376692533493042)]"
      ]
     },
     "execution_count": 81,
     "metadata": {},
     "output_type": "execute_result"
    }
   ],
   "source": [
    "model.wv.most_similar('harry')"
   ]
  },
  {
   "cell_type": "code",
   "execution_count": 82,
   "metadata": {},
   "outputs": [
    {
     "data": {
      "text/plain": [
       "[('dark', 0.5211797952651978),\n",
       " ('wormtail', 0.47610172629356384),\n",
       " ('intends', 0.42322561144828796),\n",
       " ('immortality', 0.41426071524620056),\n",
       " ('dumbledore', 0.40612533688545227),\n",
       " ('riddle', 0.40516069531440735),\n",
       " ('bellatrix', 0.3922257423400879),\n",
       " ('confirm', 0.38936370611190796),\n",
       " ('ambitions', 0.3813028931617737),\n",
       " ('denial', 0.37566837668418884)]"
      ]
     },
     "execution_count": 82,
     "metadata": {},
     "output_type": "execute_result"
    }
   ],
   "source": [
    "model.wv.most_similar('voldemort')"
   ]
  },
  {
   "cell_type": "code",
   "execution_count": 102,
   "metadata": {},
   "outputs": [
    {
     "data": {
      "text/plain": [
       "[('cho', 0.4826638400554657),\n",
       " ('champions', 0.4052165746688843),\n",
       " ('krum', 0.3971867859363556),\n",
       " ('triwizard', 0.3735730051994324),\n",
       " ('nobody', 0.3730827271938324),\n",
       " ('maze', 0.37013375759124756),\n",
       " ('swill', 0.36639174818992615),\n",
       " ('puddlemere', 0.3428756594657898),\n",
       " ('roger', 0.3375503420829773),\n",
       " ('parvati', 0.33143869042396545)]"
      ]
     },
     "execution_count": 102,
     "metadata": {},
     "output_type": "execute_result"
    }
   ],
   "source": [
    "model.wv.most_similar('cedric')"
   ]
  },
  {
   "cell_type": "code",
   "execution_count": 84,
   "metadata": {},
   "outputs": [
    {
     "data": {
      "text/plain": [
       "[('dumbledore', 0.5012398958206177),\n",
       " ('lupin', 0.47544971108436584),\n",
       " ('trelawney', 0.4546203017234802),\n",
       " ('umbridge', 0.41624149680137634),\n",
       " ('mcgonagall', 0.41155311465263367),\n",
       " ('malfoy', 0.4073783755302429),\n",
       " ('james', 0.37931156158447266),\n",
       " ('sirius', 0.3764587640762329),\n",
       " ('slughorn', 0.3672788441181183),\n",
       " ('quirrell', 0.35914820432662964)]"
      ]
     },
     "execution_count": 84,
     "metadata": {},
     "output_type": "execute_result"
    }
   ],
   "source": [
    "model.wv.most_similar('snape')"
   ]
  },
  {
   "cell_type": "code",
   "execution_count": 103,
   "metadata": {},
   "outputs": [
    {
     "data": {
      "text/plain": [
       "'voldemort'"
      ]
     },
     "execution_count": 103,
     "metadata": {},
     "output_type": "execute_result"
    }
   ],
   "source": [
    "model.wv.doesnt_match(['harry','ron','hermione','voldemort'])"
   ]
  },
  {
   "cell_type": "code",
   "execution_count": 104,
   "metadata": {},
   "outputs": [
    {
     "data": {
      "text/plain": [
       "'draco'"
      ]
     },
     "execution_count": 104,
     "metadata": {},
     "output_type": "execute_result"
    }
   ],
   "source": [
    "model.wv.doesnt_match(['harry','ron','hermione','draco'])"
   ]
  },
  {
   "cell_type": "code",
   "execution_count": 109,
   "metadata": {},
   "outputs": [
    {
     "data": {
      "text/plain": [
       "'ron'"
      ]
     },
     "execution_count": 109,
     "metadata": {},
     "output_type": "execute_result"
    }
   ],
   "source": [
    "model.wv.doesnt_match(['dumbledore','snape','ron','mcgonagall'])"
   ]
  },
  {
   "cell_type": "code",
   "execution_count": 88,
   "metadata": {},
   "outputs": [
    {
     "data": {
      "text/plain": [
       "0.5419811"
      ]
     },
     "execution_count": 88,
     "metadata": {},
     "output_type": "execute_result"
    }
   ],
   "source": [
    "model.wv.similarity('harry','ron')"
   ]
  },
  {
   "cell_type": "code",
   "execution_count": 106,
   "metadata": {},
   "outputs": [
    {
     "data": {
      "text/plain": [
       "0.42163464"
      ]
     },
     "execution_count": 106,
     "metadata": {},
     "output_type": "execute_result"
    }
   ],
   "source": [
    "model.wv.similarity('lily','james')"
   ]
  },
  {
   "cell_type": "code",
   "execution_count": null,
   "metadata": {},
   "outputs": [],
   "source": []
  }
 ],
 "metadata": {
  "kernelspec": {
   "display_name": "base",
   "language": "python",
   "name": "python3"
  },
  "language_info": {
   "codemirror_mode": {
    "name": "ipython",
    "version": 3
   },
   "file_extension": ".py",
   "mimetype": "text/x-python",
   "name": "python",
   "nbconvert_exporter": "python",
   "pygments_lexer": "ipython3",
   "version": "3.9.12"
  },
  "orig_nbformat": 4,
  "vscode": {
   "interpreter": {
    "hash": "610a6f344c2137faf927ea819c63f6cee33a2c04455044b28099f39fe9722347"
   }
  }
 },
 "nbformat": 4,
 "nbformat_minor": 2
}
